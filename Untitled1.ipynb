{
 "cells": [
  {
   "cell_type": "code",
   "execution_count": 3,
   "metadata": {},
   "outputs": [
    {
     "name": "stdout",
     "output_type": "stream",
     "text": [
      "Index(['imf1', 'imf2', 'imf3', 'imf4', 'imf5', 'imf6', 'imf7', 'imf8', 'imf9',\n",
      "       'imf10'],\n",
      "      dtype='object')\n"
     ]
    }
   ],
   "source": [
    "import pandas as pd\n",
    "data=pd.read_excel(r'F:\\研究生阶段\\毕业设计\\处理数据\\EMD分解.xls').set_index('Date')\n",
    "print(data.columns)"
   ]
  },
  {
   "cell_type": "code",
   "execution_count": 6,
   "metadata": {},
   "outputs": [
    {
     "name": "stdout",
     "output_type": "stream",
     "text": [
      "Date\n",
      "1986-01-02   -0.327365\n",
      "1986-01-03   -0.084845\n",
      "1986-01-06    0.319082\n",
      "1986-01-07   -0.310130\n",
      "1986-01-08   -0.098686\n",
      "Name: imf1, dtype: float64\n",
      "Date\n",
      "1986-01-02    0.173387\n",
      "1986-01-03    0.325226\n",
      "1986-01-06    0.365278\n",
      "1986-01-07    0.182301\n",
      "1986-01-08   -0.124846\n",
      "Name: imf2, dtype: float64\n",
      "Date\n",
      "1986-01-02   -0.625464\n",
      "1986-01-03   -0.645562\n",
      "1986-01-06   -0.535123\n",
      "1986-01-07   -0.290603\n",
      "1986-01-08    0.021339\n",
      "Name: imf3, dtype: float64\n",
      "Date\n",
      "1986-01-02    2.416827\n",
      "1986-01-03    2.509058\n",
      "1986-01-06    2.531153\n",
      "1986-01-07    2.485214\n",
      "1986-01-08    2.374503\n",
      "Name: imf4, dtype: float64\n",
      "Date\n",
      "1986-01-02    3.584146\n",
      "1986-01-03    3.597476\n",
      "1986-01-06    3.594384\n",
      "1986-01-07    3.574936\n",
      "1986-01-08    3.539778\n",
      "Name: imf5, dtype: float64\n",
      "Date\n",
      "1986-01-02    3.518510\n",
      "1986-01-03    3.496085\n",
      "1986-01-06    3.470034\n",
      "1986-01-07    3.440430\n",
      "1986-01-08    3.407369\n",
      "Name: imf6, dtype: float64\n",
      "Date\n",
      "1986-01-02   -1.362703\n",
      "1986-01-03   -1.382060\n",
      "1986-01-06   -1.401384\n",
      "1986-01-07   -1.420674\n",
      "1986-01-08   -1.439928\n",
      "Name: imf7, dtype: float64\n",
      "Date\n",
      "1986-01-02    1.056863\n",
      "1986-01-03    1.060703\n",
      "1986-01-06    1.064524\n",
      "1986-01-07    1.068328\n",
      "1986-01-08    1.072113\n",
      "Name: imf8, dtype: float64\n",
      "Date\n",
      "1986-01-02   -1.262136\n",
      "1986-01-03   -1.263064\n",
      "1986-01-06   -1.263981\n",
      "1986-01-07   -1.264886\n",
      "1986-01-08   -1.265779\n",
      "Name: imf9, dtype: float64\n",
      "Date\n",
      "1986-01-02    18.387935\n",
      "1986-01-03    18.386984\n",
      "1986-01-06    18.386034\n",
      "1986-01-07    18.385085\n",
      "1986-01-08    18.384137\n",
      "Name: imf10, dtype: float64\n"
     ]
    }
   ],
   "source": [
    "for i in data.columns:\n",
    "    data1=data[i]\n",
    "    print(data1.head())"
   ]
  },
  {
   "cell_type": "code",
   "execution_count": null,
   "metadata": {},
   "outputs": [],
   "source": []
  }
 ],
 "metadata": {
  "kernelspec": {
   "display_name": "Python 3",
   "language": "python",
   "name": "python3"
  },
  "language_info": {
   "codemirror_mode": {
    "name": "ipython",
    "version": 3
   },
   "file_extension": ".py",
   "mimetype": "text/x-python",
   "name": "python",
   "nbconvert_exporter": "python",
   "pygments_lexer": "ipython3",
   "version": "3.7.3"
  }
 },
 "nbformat": 4,
 "nbformat_minor": 2
}
